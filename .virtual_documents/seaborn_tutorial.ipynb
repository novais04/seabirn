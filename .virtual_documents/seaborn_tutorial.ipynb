# importando Bibliotecas
import numpy as np
import pandas as pd
import matplotlib.pyplot as plt
import seaborn as sns
sns.set_theme(style='darkgrid')

import warnings
warnings.filterwarnings('ignore')


tips = sns.load_dataset('tips') # importanto o dataset tips (gordetas de carços US)
tips.sample(3)



sns.relplot(data=tips, x='total_bill', y='tip');


sns.relplot(data=tips, x='total_bill', y='tip', hue='smoker');


sns.relplot(data=tips, x='total_bill', y='tip', hue='smoker', style='smoker')


sns.relplot(data=tips, x='total_bill', y='tip', hue='smoker', style='time')


sns.relplot(data=tips, x='total_bill', y='tip', hue='size' )


sns.relplot(
    data=tips,
    x='total_bill',
    y='tip',
    hue='size',
    palette='ch:r=-.5, l=.75'
)


sns.relplot(
    data=tips,
    x='total_bill',
    y='tip',
    size='size'
)


sns.relplot(
    data=tips,
    x='total_bill',
    y='tip',
    size='size',
    sizes=(15,200)
)


#sns.scatterplot?


sns.scatterplot(
    data=tips, x='total_bill', y='tip', hue='size', size='size',
    sizes=(20, 200), hue_norm=(0,7), legend='full'

);


tips['time'].unique()


markers = {'Dinner':'s', 'Lunch':"X"}
sns.scatterplot(
    data=tips,
    x='total_bill',
    y='tip',
    style='time',
    markers=markers
)


sns.scatterplot(
    data=tips,
    x='total_bill',
    y='tip',
    s=100,
    color=".2",
    marker="+"
)


index = pd.date_range("1 1 2000", periods=100, freq="m", name="date")
data = np.random.randn(100, 4).cumsum(axis=0)
wide_df = pd.DataFrame(data, index, columns=['a','b','c','d'])
sns.scatterplot(data=wide_df)


sns.relplot(
    data= tips, x='total_bill',y='tip',
    col='time', # Lunch ot Dinner
    hue='day',
    style='day',
    kind='scatter',
);


# Obtendo dataser
dowjones=sns.load_dataset("dowjones")
sns.relplot(data=dowjones, x='Date', y='Price', kind='line')


fmri = sns.load_dataset('fmri')
fmri


sns.relplot(
    data=fmri,
    x="timepoint",
    y="signal",
    kind='line'
)


sns.relplot(
    data=fmri,
    x="timepoint",
    y="signal",
    kind='line',
    errorbar=None
)


sns.relplot(
    data=fmri,
    x='timepoint',
    y='signal',
    kind='line',
    errorbar='sd'
)


sns.relplot(
    data=fmri,
    x='timepoint',
    y='signal',
    kind='line',
    hue='event'
)


sns.relplot(
    data=fmri,
    x='timepoint',
    y='signal',
    kind='line',
    hue='region',
    style='event'
)


sns.relplot(
    data=fmri,
    x='timepoint',
    y='signal',
    hue='region',
    style='event',
    kind='line',
    dashes=False,
    markers=True
)


sns.relplot(
    data=fmri,
    x='timepoint',
    y='signal',
    hue='event',
    style='event',
    kind='line'
)


dots = sns.load_dataset('dots').query("align=='dots'")
dots


sns.relplot(
    data=dots,
    x='time',
    y='firing_rate',
    hue='coherence',
    style='choice',
    kind='line'
)


titanic = sns.load_dataset('titanic')
titanic.sample(5)


titanic['age'].isnull().sum()





sns.relplot(
#    kind='line',
    data=tips,
    x='total_bill',
    y='tip',
    hue='smoker',
    col='time'  # cria um grafico para cada tipo de time
)


sns.relplot(
    data=fmri,
    kind='line',
    x='timepoint',
    y='signal',
    hue='subject',
    col='region', # cria um gráfico para cada região (region)
    row='event',
    height=3,
    estimator=None
)


sns.relplot(
    kind='line',
    data=fmri.query("region=='frontal'"),
    x='timepoint',
    y='signal',
    hue='event',
    style='event',
    col='subject',
    col_wrap=5,  # quebra de colunas no caso aqui  o máximo de colunas será 5
    height=3,
    aspect=.8,
    linewidth=2.5
);


# importando Bibliotecas
import numpy as np
import pandas as pd
import matplotlib.pyplot as plt
import seaborn as sns
sns.set_theme(style='darkgrid')

import warnings
warnings.filterwarnings('ignore')


#sns.displot?


penguins = sns.load_dataset('penguins')
penguins.sample(5)


plt.figure(figsize=(20,15))
ax = sns.displot(penguins, x="flipper_length_mm")
#plt.xticks(rotation=80)
ax.set_xlabels("Flipper Length MM")


penguins.columns


sns.displot(
    penguins,
    x='flipper_length_mm',
    binwidth=3
)


sns.displot(penguins, x='flipper_length_mm', bins=15)


tips = sns.load_dataset("tips")
tips.sample(3)


sns.displot(tips, x='size')


sns.displot(tips, x="size", bins=[1, 2, 3, 4, 5, 6, 7])


sns.displot(tips, x='size', discrete=True)


sns.displot(tips, x='day', shrink=0.8)


sns.displot(penguins, x='flipper_length_mm', hue='species')


sns.displot(penguins, x='flipper_length_mm', hue='species', element='step')


sns.color_palette("YlGnBu",n_colors=10 )


sns.color_palette("rocket",n_colors=10 )


sns.displot(penguins, x="flipper_length_mm", hue="species", multiple="stack")


sns.displot(
    penguins, 
    x='flipper_length_mm', 
    hue='sex', 
    multiple='dodge'
)


sns.displot(
    data=penguins,
    x='flipper_length_mm',
    col='sex'
)


sns.displot(
    data=penguins,
    x='flipper_length_mm',
    hue='species',
    stat='density'
)


sns.displot(
    data=penguins,
    x='flipper_length_mm',
    hue='species',
    stat='density',
    common_norm=False
)


sns.displot(
    data=penguins,
    x='flipper_length_mm',
    hue='species',
    stat='probability'
)



