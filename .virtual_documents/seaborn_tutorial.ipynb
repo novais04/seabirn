# importando Bibliotecas
import numpy as np 
import pandas as pd 
import matplotlib.pyplot as plt 
import seaborn as sns 
sns.set_theme(style='darkgrid')

import warnings
warnings.filterwarnings('ignore')


##Introdução


tips = sns.load_dataset('tips') # importanto o dataset tips (gordetas de carços US)
tips.sample(3)



sns.relplot(data=tips, x='total_bill', y='tip');


sns.relplot(data=tips, x='total_bill', y='tip', hue='smoker');


sns.relplot(data=tips, x='total_bill', y='tip', hue='smoker', style='smoker')


sns.relplot(data=tips, x='total_bill', y='tip', hue='smoker', style='time')


sns.relplot(data=tips, x='total_bill', y='tip', hue='size' )


sns.relplot(
    data=tips,
    x='total_bill',
    y='tip',
    hue='size',
    palette='ch:r=-.5, l=.75'
)


sns.relplot(
    data=tips,
    x='total_bill',
    y='tip',
    size='size'
)


sns.relplot(
    data=tips,
    x='total_bill',
    y='tip',
    size='size',
    sizes=(15,200)
)


#sns.scatterplot?


sns.scatterplot(
    data=tips, x='total_bill', y='tip', hue='size', size='size',
    sizes=(20, 200), hue_norm=(0,7), legend='full'
    
);


tips['time'].unique()


markers = {'Dinner':'s', 'Lunch':"X"}
sns.scatterplot(
    data=tips,
    x='total_bill',
    y='tip',
    style='time',
    markers=markers
)


sns.scatterplot(
    data=tips,
    x='total_bill',
    y='tip',
    s=100,
    color=".2",
    marker="+"
)


index = pd.date_range("1 1 2000", periods=100, freq="m", name="date")
data = np.random.randn(100, 4).cumsum(axis=0)
wide_df = pd.DataFrame(data, index, columns=['a','b','c','d'])
sns.scatterplot(data=wide_df)


sns.relplot(
    data= tips, x='total_bill',y='tip',
    col='time', # Lunch ot Dinner
    hue='day',
    style='day',
    kind='scatter',
);


# Obtendo dataser 
dowjones=sns.load_dataset("dowjones")
sns.relplot(data=dowjones, x='Date', y='Price', kind='line')


fmri = sns.load_dataset('fmri')
fmri


sns.relplot(
    data=fmri,
    x="timepoint",
    y="signal",
    kind='line'
)


sns.relplot(
    data=fmri,
    x="timepoint",
    y="signal",
    kind='line',
    errorbar=None
)


sns.relplot(
    data=fmri,
    x='timepoint',
    y='signal',
    kind='line',
    errorbar='sd'
)


sns.relplot(
    data=fmri,
    x='timepoint',
    y='signal',
    kind='line',
    hue='event'
)


sns.relplot(
    data=fmri,
    x='timepoint',
    y='signal',
    kind='line',
    hue='region',
    style='event'
)


sns.relplot(
    data=fmri,
    x='timepoint',
    y='signal',
    hue='region',
    style='event',
    kind='line',
    dashes=False,
    markers=True
)


sns.relplot(
    data=fmri,
    x='timepoint',
    y='signal',
    hue='event',
    style='event',
    kind='line'
)


dots = sns.load_dataset('dots').query("align=='dots'")
dots


sns.relplot(
    data=dots,
    x='time',
    y='firing_rate',
    hue='coherence',
    style='choice',
    kind='line'
)


pallette = sns.cubehelix_palette(n_colors=6, light=.8)
pallette


#sns.cubehelix_palette?


sns.relplot(
    kind='line',
    data=dots,
    x='time',
    y='firing_rate',
    hue='coherence',
    style='choice',
    palette=pallette
    
)


from matplotlib.colors import LogNorm

pallette = sns.cubehelix_palette(light=.7, n_colors=6)
pallette


sns.relplot(
    kind='line',
    data=dots.query("coherence > 0"),
    x='time',
    y='firing_rate',
    hue='coherence',
    style='choice',
    hue_norm=LogNorm()
)


sns.relplot(
    kind='line',
    data=dots,
    x='time',
    y='firing_rate',
    size='coherence',
    style='choice',
)


sns.relplot(
    kind='line',
    data=dots,
    x='time',
    y='firing_rate',
    hue='coherence',
    size='choice',
    palette=pallette
)


healthexp = sns.load_dataset('healthexp').sort_values("Year")
healthexp.sample(3)


sns.relplot(
    kind='line',
    data=healthexp,
    x='Spending_USD',
    y='Life_Expectancy',
    hue='Country',
    sort=False
)


sns.relplot(
    kind='line',
    data=fmri,
    x='signal',
    y='timepoint',
    hue='event',
    orient='y',
)



